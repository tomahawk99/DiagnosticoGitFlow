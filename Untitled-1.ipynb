{
 "cells": [
  {
   "cell_type": "code",
   "execution_count": 1,
   "metadata": {},
   "outputs": [],
   "source": [
    "import pandas as pd\n",
    "from pandas.io.json import json_normalize\n",
    "import warnings\n",
    "warnings.filterwarnings(\"ignore\")\n"
   ]
  },
  {
   "cell_type": "code",
   "execution_count": 2,
   "metadata": {},
   "outputs": [
    {
     "name": "stdout",
     "output_type": "stream",
     "text": [
      "Shape:  (417511, 21)\n"
     ]
    }
   ],
   "source": [
    "# Codigo de https://www.kaggle.com/code/prathamsharma123/clean-raw-json-tweets-data\n",
    "raw_tweets = pd.read_json('farmers-protest-tweets-2021-03-5.json', lines=True)\n",
    "raw_tweets = raw_tweets[raw_tweets['lang']=='en']\n",
    "print(\"Shape: \", raw_tweets.shape)"
   ]
  },
  {
   "cell_type": "markdown",
   "metadata": {},
   "source": [
    "Main"
   ]
  },
  {
   "cell_type": "code",
   "execution_count": 33,
   "metadata": {},
   "outputs": [
    {
     "name": "stdout",
     "output_type": "stream",
     "text": [
      "Ejecutando Función 2; mostrando los nombres de los 10 usuarios con más tweets\n"
     ]
    },
    {
     "data": {
      "text/plain": [
       "[('harjot_tweeting', 7134),\n",
       " ('tasveersandhu', 2088),\n",
       " ('shells_n_petals', 1991),\n",
       " ('jot__b', 1841),\n",
       " ('rebelpacifist', 1803),\n",
       " ('rumsomal', 1722),\n",
       " ('Iamjazzie96', 1491),\n",
       " ('Jass_k_G', 1458),\n",
       " ('DigitalKisanBot', 1453),\n",
       " ('z_khalique007', 1446)]"
      ]
     },
     "metadata": {},
     "output_type": "display_data"
    },
    {
     "name": "stdout",
     "output_type": "stream",
     "text": [
      "None\n"
     ]
    }
   ],
   "source": [
    "text = input(\"Elegir una función digitando 1, 2, 3 o 4\")\n",
    "if text==\"1\":\n",
    "    print(\"Ejecutando Función 1; mostrando los 10 tweets mas retweeteados\")\n",
    "    result = raw_tweets.sort_values(by=['retweetCount'], ascending=False).head(10)\n",
    "    print (display(result))\n",
    "elif text==\"2\":\n",
    "    print(\"Ejecutando Función 2; mostrando los nombres de los 10 usuarios con más tweets\")\n",
    "    from collections import Counter\n",
    "    user = [d.get('username') for d in raw_tweets.user]\n",
    "    print(display(Counter(user).most_common(10)))\n",
    "elif text==\"3\":\n",
    "    print(\"Ejecutando Función 3\")\n",
    "elif text==\"4\":\n",
    "    print(\"Ejecutando Función 4\")\n",
    "else:\n",
    "    print(\"Error de formato, intentar otra vez\")"
   ]
  }
 ],
 "metadata": {
  "interpreter": {
   "hash": "a30956ada7741bdb44e9a37d68d96e4f1dafc9bf03ef2ad7378e8e1c61835b9c"
  },
  "kernelspec": {
   "display_name": "Python 3.10.0 64-bit",
   "language": "python",
   "name": "python3"
  },
  "language_info": {
   "codemirror_mode": {
    "name": "ipython",
    "version": 3
   },
   "file_extension": ".py",
   "mimetype": "text/x-python",
   "name": "python",
   "nbconvert_exporter": "python",
   "pygments_lexer": "ipython3",
   "version": "3.10.0"
  },
  "orig_nbformat": 4
 },
 "nbformat": 4,
 "nbformat_minor": 2
}
