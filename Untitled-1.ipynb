{
 "cells": [
  {
   "cell_type": "code",
   "execution_count": 1,
   "metadata": {},
   "outputs": [],
   "source": [
    "import pandas as pd\n",
    "from pandas.io.json import json_normalize\n",
    "import warnings\n",
    "warnings.filterwarnings(\"ignore\")\n"
   ]
  },
  {
   "cell_type": "code",
   "execution_count": 2,
   "metadata": {},
   "outputs": [
    {
     "name": "stdout",
     "output_type": "stream",
     "text": [
      "Shape:  (417511, 21)\n"
     ]
    }
   ],
   "source": [
    "# Codigo de https://www.kaggle.com/code/prathamsharma123/clean-raw-json-tweets-data\n",
    "raw_tweets = pd.read_json('farmers-protest-tweets-2021-03-5.json', lines=True)\n",
    "raw_tweets = raw_tweets[raw_tweets['lang']=='en']\n",
    "print(\"Shape: \", raw_tweets.shape)"
   ]
  },
  {
   "cell_type": "markdown",
   "metadata": {},
   "source": [
    "Main"
   ]
  },
  {
   "cell_type": "code",
   "execution_count": 5,
   "metadata": {},
   "outputs": [
    {
     "name": "stdout",
     "output_type": "stream",
     "text": [
      "Error de formato, intentar otra vez\n"
     ]
    }
   ],
   "source": [
    "text = input(\"Elegir una función digitando 1, 2, 3 o 4\")\n",
    "if text==\"1\":\n",
    "    print(\"Ejecutando Función 1\")\n",
    "elif text==\"2\":\n",
    "    print(\"Ejecutando Función 2\")\n",
    "elif text==\"3\":\n",
    "    print(\"Ejecutando Función 3\")\n",
    "elif text==\"4\":\n",
    "    print(\"Ejecutando Función 4\")\n",
    "else:\n",
    "    print(\"Error de formato, intentar otra vez\")"
   ]
  }
 ],
 "metadata": {
  "interpreter": {
   "hash": "a30956ada7741bdb44e9a37d68d96e4f1dafc9bf03ef2ad7378e8e1c61835b9c"
  },
  "kernelspec": {
   "display_name": "Python 3.10.0 64-bit",
   "language": "python",
   "name": "python3"
  },
  "language_info": {
   "codemirror_mode": {
    "name": "ipython",
    "version": 3
   },
   "file_extension": ".py",
   "mimetype": "text/x-python",
   "name": "python",
   "nbconvert_exporter": "python",
   "pygments_lexer": "ipython3",
   "version": "3.10.0"
  },
  "orig_nbformat": 4
 },
 "nbformat": 4,
 "nbformat_minor": 2
}
